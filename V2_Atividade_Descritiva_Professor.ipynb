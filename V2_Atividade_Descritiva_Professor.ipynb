{
  "cells": [
    {
      "cell_type": "markdown",
      "metadata": {
        "id": "QEH_7FvGl7wm"
      },
      "source": [
        "# Onde é mais caro viver: Gotham City ou Metrópolis?\n",
        "Sua equipe deve responder a essa pergunta com base em dados acerca de aluguéis praticados em diversos pontos das duas cidades, em vários tipos de residências. As informações reúnem a área dos imóveis, os impostos, seguros e aluguéis mensais.\n",
        "\n",
        "Faça o upload do arquivo 'alugueis.csv', execute o código abaixo e verifique o formato do conjunto de dados."
      ]
    },
    {
      "cell_type": "code",
      "execution_count": null,
      "metadata": {
        "id": "zkRcdkkULvOz",
        "outputId": "a3ecf61c-cc15-431f-a4d3-19c660557a63"
      },
      "outputs": [
        {
          "data": {
            "text/html": [
              "<div>\n",
              "<style scoped>\n",
              "    .dataframe tbody tr th:only-of-type {\n",
              "        vertical-align: middle;\n",
              "    }\n",
              "\n",
              "    .dataframe tbody tr th {\n",
              "        vertical-align: top;\n",
              "    }\n",
              "\n",
              "    .dataframe thead th {\n",
              "        text-align: right;\n",
              "    }\n",
              "</style>\n",
              "<table border=\"1\" class=\"dataframe\">\n",
              "  <thead>\n",
              "    <tr style=\"text-align: right;\">\n",
              "      <th></th>\n",
              "      <th>Cidade</th>\n",
              "      <th>Área</th>\n",
              "      <th>Impostos</th>\n",
              "      <th>Seguro</th>\n",
              "      <th>Total</th>\n",
              "    </tr>\n",
              "  </thead>\n",
              "  <tbody>\n",
              "    <tr>\n",
              "      <th>0</th>\n",
              "      <td>Gotham</td>\n",
              "      <td>240</td>\n",
              "      <td>1000</td>\n",
              "      <td>121</td>\n",
              "      <td>9121</td>\n",
              "    </tr>\n",
              "    <tr>\n",
              "      <th>1</th>\n",
              "      <td>Metrópolis</td>\n",
              "      <td>64</td>\n",
              "      <td>122</td>\n",
              "      <td>11</td>\n",
              "      <td>1493</td>\n",
              "    </tr>\n",
              "    <tr>\n",
              "      <th>2</th>\n",
              "      <td>Gotham</td>\n",
              "      <td>73</td>\n",
              "      <td>150</td>\n",
              "      <td>16</td>\n",
              "      <td>2116</td>\n",
              "    </tr>\n",
              "    <tr>\n",
              "      <th>3</th>\n",
              "      <td>Gotham</td>\n",
              "      <td>19</td>\n",
              "      <td>41</td>\n",
              "      <td>16</td>\n",
              "      <td>1257</td>\n",
              "    </tr>\n",
              "    <tr>\n",
              "      <th>4</th>\n",
              "      <td>Gotham</td>\n",
              "      <td>13</td>\n",
              "      <td>42</td>\n",
              "      <td>28</td>\n",
              "      <td>2270</td>\n",
              "    </tr>\n",
              "    <tr>\n",
              "      <th>5</th>\n",
              "      <td>Gotham</td>\n",
              "      <td>55</td>\n",
              "      <td>375</td>\n",
              "      <td>64</td>\n",
              "      <td>7389</td>\n",
              "    </tr>\n",
              "    <tr>\n",
              "      <th>6</th>\n",
              "      <td>Gotham</td>\n",
              "      <td>55</td>\n",
              "      <td>67</td>\n",
              "      <td>17</td>\n",
              "      <td>1984</td>\n",
              "    </tr>\n",
              "    <tr>\n",
              "      <th>7</th>\n",
              "      <td>Gotham</td>\n",
              "      <td>82</td>\n",
              "      <td>109</td>\n",
              "      <td>26</td>\n",
              "      <td>2963</td>\n",
              "    </tr>\n",
              "    <tr>\n",
              "      <th>8</th>\n",
              "      <td>Gotham</td>\n",
              "      <td>32</td>\n",
              "      <td>0</td>\n",
              "      <td>37</td>\n",
              "      <td>3470</td>\n",
              "    </tr>\n",
              "    <tr>\n",
              "      <th>9</th>\n",
              "      <td>Metrópolis</td>\n",
              "      <td>60</td>\n",
              "      <td>20</td>\n",
              "      <td>10</td>\n",
              "      <td>1230</td>\n",
              "    </tr>\n",
              "  </tbody>\n",
              "</table>\n",
              "</div>"
            ],
            "text/plain": [
              "       Cidade  Área  Impostos  Seguro  Total\n",
              "0      Gotham   240      1000     121   9121\n",
              "1  Metrópolis    64       122      11   1493\n",
              "2      Gotham    73       150      16   2116\n",
              "3      Gotham    19        41      16   1257\n",
              "4      Gotham    13        42      28   2270\n",
              "5      Gotham    55       375      64   7389\n",
              "6      Gotham    55        67      17   1984\n",
              "7      Gotham    82       109      26   2963\n",
              "8      Gotham    32         0      37   3470\n",
              "9  Metrópolis    60        20      10   1230"
            ]
          },
          "execution_count": 20,
          "metadata": {},
          "output_type": "execute_result"
        }
      ],
      "source": [
        "# Nomes:Débora Wittkowski       22.10119-5\n",
        "#       Leonardo Cazotto Stuber 22.01290-7\n",
        "import pandas as pd\n",
        "import matplotlib.pyplot as plt\n",
        "# Importação dos dados\n",
        "casas = pd.read_csv('alugueis.csv')\n",
        "# Inspecção das 10 primeiras linhas do DataFrame\n",
        "casas.head(10)"
      ]
    },
    {
      "cell_type": "markdown",
      "metadata": {
        "id": "seh5LJAhoFtw"
      },
      "source": [
        "## Distribuição dos seguros residenciais\n",
        "Construa histogramas para a distribuição de seguros residenciais em cada uma das cidades. A separação dos dados por cidade já está cofificada nos DataFrames casas_Gotham e casas_Met.\n",
        "\n",
        "Além disso, nos histogramas aplique:\n",
        "\n",
        "\n",
        "*   Limite inferior da primeira classe: \\$0 (variável MIN)\n",
        "*   Limite superior da última classe: \\$170 (variável MAX)\n",
        "*   Amplitude das classes: $\\10 (variável AMP)\n",
        "*   Eixo horizontal calibrado nos pontos médios das classes\n",
        "*   Tamanho da figura: 10x6 (variável TAM_FIG)\n",
        "\n",
        "\n",
        "\n",
        "\n",
        "\n"
      ]
    },
    {
      "cell_type": "code",
      "execution_count": null,
      "metadata": {
        "id": "-kYauBgejS2n",
        "outputId": "dd817c1f-3247-4a01-ba47-bf07ffc64a8e"
      },
      "outputs": [
        {
          "data": {
            "text/plain": [
              "[Text(0.5, 1.0, 'Histograma de seguros - Gotham City'),\n",
              " Text(0, 0.5, 'Frequência - Valor dos Seguros'),\n",
              " Text(0.5, 0, 'Preço - US$'),\n",
              " [<matplotlib.axis.XTick at 0x2202a130fd0>,\n",
              "  <matplotlib.axis.XTick at 0x2202a131000>,\n",
              "  <matplotlib.axis.XTick at 0x2202a131ea0>,\n",
              "  <matplotlib.axis.XTick at 0x2202a1780a0>,\n",
              "  <matplotlib.axis.XTick at 0x2202a1787f0>,\n",
              "  <matplotlib.axis.XTick at 0x2202a178f40>,\n",
              "  <matplotlib.axis.XTick at 0x2202a179690>,\n",
              "  <matplotlib.axis.XTick at 0x2202a179420>,\n",
              "  <matplotlib.axis.XTick at 0x2202a178160>,\n",
              "  <matplotlib.axis.XTick at 0x2202a17a140>,\n",
              "  <matplotlib.axis.XTick at 0x2202a17a890>,\n",
              "  <matplotlib.axis.XTick at 0x2202a17afe0>,\n",
              "  <matplotlib.axis.XTick at 0x2202a17b730>,\n",
              "  <matplotlib.axis.XTick at 0x2202a17bf10>,\n",
              "  <matplotlib.axis.XTick at 0x2202a17ada0>,\n",
              "  <matplotlib.axis.XTick at 0x2202a179ae0>,\n",
              "  <matplotlib.axis.XTick at 0x2202a1903d0>]]"
            ]
          },
          "execution_count": 21,
          "metadata": {},
          "output_type": "execute_result"
        },
        {
          "data": {
            "image/png": "[encoded data removed]",
            "text/plain": [
              "<Figure size 720x432 with 1 Axes>"
            ]
          },
          "metadata": {
            "needs_background": "light"
          },
          "output_type": "display_data"
        }
      ],
      "source": [
        "'''Histograma de seguros - Gotham City'''\n",
        "casas_Gotham = casas.loc[casas['Cidade']=='Gotham']\n",
        "MIN, MAX, AMP = 0, 170, 10\n",
        "TAM_FIG = (10,6)\n",
        "intervalo = pd.interval_range(start=MIN, end=MAX, freq=AMP)\n",
        "pt_medio = [inter.mid for inter in intervalo]\n",
        "histogramaGotham = casas_Gotham[\"Seguro\"].hist(bins=[inter.left for inter in intervalo]+[MAX], color='blue', edgecolor='black', grid=False, figsize=TAM_FIG)\n",
        "histogramaGotham.set(title=\"Histograma de seguros - Gotham City\", ylabel='Frequência - Valor dos Seguros', xlabel='Preço - US$', xticks = pt_medio)"
      ]
    },
    {
      "cell_type": "code",
      "execution_count": null,
      "metadata": {
        "id": "RIEI6c9foq4I",
        "outputId": "4588e1e5-ea4d-4d01-ec96-ed2398e6096b"
      },
      "outputs": [
        {
          "data": {
            "text/plain": [
              "[Text(0.5, 1.0, 'Histograma de seguros - Metrópolis'),\n",
              " Text(0, 0.5, 'Frequência - Valor dos Seguros'),\n",
              " Text(0.5, 0, 'Preço - US$'),\n",
              " [<matplotlib.axis.XTick at 0x2202a1c0a00>,\n",
              "  <matplotlib.axis.XTick at 0x2202a1c09d0>,\n",
              "  <matplotlib.axis.XTick at 0x2202a02e5f0>,\n",
              "  <matplotlib.axis.XTick at 0x2202a1cb400>,\n",
              "  <matplotlib.axis.XTick at 0x2202a1cbb50>,\n",
              "  <matplotlib.axis.XTick at 0x2202a1cb910>,\n",
              "  <matplotlib.axis.XTick at 0x2202a1f8490>,\n",
              "  <matplotlib.axis.XTick at 0x2202a1f8be0>,\n",
              "  <matplotlib.axis.XTick at 0x2202a1f9330>,\n",
              "  <matplotlib.axis.XTick at 0x2202a1f9a80>,\n",
              "  <matplotlib.axis.XTick at 0x2202a1fa1d0>,\n",
              "  <matplotlib.axis.XTick at 0x2202a1fa920>,\n",
              "  <matplotlib.axis.XTick at 0x2202a1fa6b0>,\n",
              "  <matplotlib.axis.XTick at 0x2202a1f93f0>,\n",
              "  <matplotlib.axis.XTick at 0x2202a1fada0>,\n",
              "  <matplotlib.axis.XTick at 0x2202a1fb4f0>,\n",
              "  <matplotlib.axis.XTick at 0x2202a1fbc40>]]"
            ]
          },
          "execution_count": 22,
          "metadata": {},
          "output_type": "execute_result"
        },
        {
          "data": {
            "image/png": "[encoded data removed]",
            "text/plain": [
              "<Figure size 720x432 with 1 Axes>"
            ]
          },
          "metadata": {
            "needs_background": "light"
          },
          "output_type": "display_data"
        }
      ],
      "source": [
        "'''Histograma de seguros - Metrópolis'''\n",
        "casas_Met = casas.loc[casas['Cidade']=='Metrópolis']\n",
        "MIN, MAX, AMP = 0, 170, 10\n",
        "TAM_FIG = (10,6)\n",
        "intervalo = pd.interval_range(start=MIN, end=MAX, freq=AMP)\n",
        "pt_medio = [inter.mid for inter in intervalo]\n",
        "histogramaMetrópolis = casas_Met[\"Seguro\"].hist(bins=[inter.left for inter in intervalo]+[MAX], color='blue', edgecolor='black', grid=False, figsize=TAM_FIG)\n",
        "histogramaMetrópolis.set(title=\"Histograma de seguros - Metrópolis\", ylabel='Frequência - Valor dos Seguros', xlabel='Preço - US$', xticks = pt_medio)"
      ]
    },
    {
      "cell_type": "markdown",
      "metadata": {
        "id": "gCycTH0Qql-1"
      },
      "source": [
        "## Responda:\n",
        "\n",
        "\n",
        "*   Quais as duas classes mais frequentes em cada histograma?\n",
        "*   Qual cidade deve ter o seguro médio mais caro? Por quê?\n",
        "\n"
      ]
    },
    {
      "cell_type": "code",
      "execution_count": null,
      "metadata": {
        "id": "WuF4fvLxrPcm",
        "outputId": "a086292b-79d6-44fa-d8a1-31487f07d29d"
      },
      "outputs": [
        {
          "name": "stdout",
          "output_type": "stream",
          "text": [
            "A média do seguro de Gotham é de US$ 46.73, já o de Metrópolis é de US$ 30.56.\n"
          ]
        },
        {
          "data": {
            "text/plain": [
              "' - Ao observar os histogramas acima, conclui-se que as duas classes mais frequentes nas cidades de Gotham e Metrópolis, respectivamente, são: (20-30 e 30-40); (10-20 e 20-30)\\n - Ao realizar a média de ambas as cidades, pode-se afirmar que Gotham possui o seguro médio mais caro, pois seu valor é de US$ 46,73 e de Metrópolis é US$ 30,56'"
            ]
          },
          "execution_count": 30,
          "metadata": {},
          "output_type": "execute_result"
        }
      ],
      "source": [
        "médiaGotham = casas_Gotham[\"Seguro\"].mean()\n",
        "médiaMetrópolis = casas_Met[\"Seguro\"].mean()\n",
        "print(f\"A média do seguro de Gotham é de US$ {médiaGotham:.2f}, já o de Metrópolis é de US$ {médiaMetrópolis:.2f}.\")\n",
        "\n",
        "''' - Ao observar os histogramas acima, conclui-se que as duas classes mais frequentes nas cidades de Gotham e Metrópolis, respectivamente, são: (20-30 e 30-40); (10-20 e 20-30).\n",
        " - Ao realizar a média de ambas as cidades, pode-se afirmar que Gotham possui o seguro médio mais caro, pois seu valor é de US$ 46,73 e de Metrópolis é US$ 30,56.'''"
      ]
    },
    {
      "cell_type": "markdown",
      "metadata": {
        "id": "P1rEuoCTrmQA"
      },
      "source": [
        "# Medidas centrais e de variação das distribuições de aluguéis\n",
        "Calcule as medidas centrais e de variação das distribuições de aluguéis (coluna 'Total') em cada cidade."
      ]
    },
    {
      "cell_type": "code",
      "execution_count": null,
      "metadata": {
        "id": "nc5ZOOeprd-Q",
        "outputId": "0641946e-96f5-4ac6-c02f-802771090b04"
      },
      "outputs": [
        {
          "name": "stdout",
          "output_type": "stream",
          "text": [
            "Os dados de Gotham são: Desvio padrão 2754.92, média: 4678.68, moda: 2555.00, e mediana: 3959.00\n",
            "Os dados de Metrópolis são: Desvio padrão 2229.32, média: 3005.20, moda: 1109.00, e mediana: 2197.00\n"
          ]
        }
      ],
      "source": [
        "# Medidas centrais e de variação para Gotham City\n",
        "média = casas_Gotham[\"Total\"].mean()\n",
        "moda = casas_Gotham[\"Total\"].mode()[0]\n",
        "mediana = casas_Gotham[\"Total\"].median()\n",
        "desvioPadrão = casas_Gotham[\"Total\"].std(ddof=1) # Por ser um dado amostral ddof = 1\n",
        "\n",
        "print(f\"Os dados de Gotham são: Desvio padrão {desvioPadrão:.2f}, média: {média:.2f}, moda: {moda:.2f}, e mediana: {mediana:.2f}\")\n",
        "\n",
        "# Medidas centrais e de variação para Metrópolis\n",
        "média = casas_Met[\"Total\"].mean()\n",
        "moda = casas_Met[\"Total\"].mode()[0]\n",
        "mediana = casas_Met[\"Total\"].median()\n",
        "desvioPadrão = casas_Met[\"Total\"].std(ddof=1) # Por ser um dado amostral ddof = 1\n",
        "\n",
        "print(f\"Os dados de Metrópolis são: Desvio padrão {desvioPadrão:.2f}, média: {média:.2f}, moda: {moda:.2f}, e mediana: {mediana:.2f}\")"
      ]
    },
    {
      "cell_type": "markdown",
      "metadata": {
        "id": "QnIzstG6s-7d"
      },
      "source": [
        "## Responda:\n",
        "Qual das cidades apresenta:\n",
        "\n",
        "*   O aluguel médio mais caro?\n",
        "*   A maior mediana?\n",
        "*   O menor desvio padrão?"
      ]
    },
    {
      "cell_type": "code",
      "execution_count": null,
      "metadata": {
        "id": "KDvP5ly4wEPs"
      },
      "outputs": [],
      "source": [
        "''' - Ao analisar os dados acima, o aluguel médio mais caro é da cidade de Gotham com US$ 4.678,68\n",
        " - Ao analisar os dados acima, a cidade que apresenta a maio mediana é a de Gotham com US$ 3.959,00\n",
        " - Ao analisar os dados acima, o menor desvio padrão é o da cidade de Metrópolis com US$ 2.229,32'''"
      ]
    },
    {
      "cell_type": "markdown",
      "metadata": {
        "id": "0z4ZmRV9tWqO"
      },
      "source": [
        "## Quartis da distribuição de impostos residenciais\n",
        "Determine os quartis para a distribuição de impostos residenciais de cada cidade. A seguir, construa os respectivos diagramas boxplot."
      ]
    },
    {
      "cell_type": "code",
      "execution_count": null,
      "metadata": {
        "id": "-mrVUhfGtPvs",
        "outputId": "df2740ab-871a-4b5a-d6b1-f4a5a17eda86"
      },
      "outputs": [
        {
          "name": "stdout",
          "output_type": "stream",
          "text": [
            "Quartis dos impostos em Gotham City, respectivamente Q1 Q2 e Q3\n"
          ]
        },
        {
          "data": {
            "text/plain": [
              "0.25     19.25\n",
              "0.50    126.00\n",
              "0.75    340.75\n",
              "Name: Impostos, dtype: float64"
            ]
          },
          "metadata": {},
          "output_type": "display_data"
        },
        {
          "name": "stdout",
          "output_type": "stream",
          "text": [
            "Quartis dos impostos em Metrópolis, respectivamente Q1 Q2 e Q3\n"
          ]
        },
        {
          "data": {
            "text/plain": [
              "0.25     34.0\n",
              "0.50     76.0\n",
              "0.75    176.0\n",
              "Name: Impostos, dtype: float64"
            ]
          },
          "metadata": {},
          "output_type": "display_data"
        },
        {
          "data": {
            "text/plain": [
              "Text(0.5, 0.98, '')"
            ]
          },
          "execution_count": 63,
          "metadata": {},
          "output_type": "execute_result"
        },
        {
          "data": {
            "image/png": "[encoded data removed]",
            "text/plain": [
              "<Figure size 432x288 with 1 Axes>"
            ]
          },
          "metadata": {
            "needs_background": "light"
          },
          "output_type": "display_data"
        }
      ],
      "source": [
        "# Quartis dos impostos em Gotham City\n",
        "from turtle import title\n",
        "\n",
        "\n",
        "print(\"Quartis dos impostos em Gotham City, respectivamente Q1 Q2 e Q3\")\n",
        "quartisGotham = casas_Gotham[\"Impostos\"].quantile([1/4,2/4,3/4])\n",
        "display(quartisGotham)\n",
        "# Quartis dos impostos em Metrópolis\n",
        "print(\"Quartis dos impostos em Metrópolis, respectivamente Q1 Q2 e Q3\")\n",
        "quartisMetrópolis = casas_Met[\"Impostos\"].quantile([1/4,2/4,3/4])\n",
        "display(quartisMetrópolis)\n",
        "# Boxplots\n",
        "casas.boxplot(by=\"Cidade\", vert=False, column=['Impostos'])\n",
        "plt.suptitle(\"\")\n"
      ]
    },
    {
      "cell_type": "markdown",
      "metadata": {
        "id": "SgIdR6Esw5G-"
      },
      "source": [
        "## Responda:\n",
        "Com base nos diagramas boxplot, classifique a distribuição dos impostos em cada cidade como simétricas, assimétricas à esquerda ou assimétricas à direita. Por quê?"
      ]
    },
    {
      "cell_type": "code",
      "execution_count": null,
      "metadata": {
        "id": "faWDKNzpwdvv"
      },
      "outputs": [],
      "source": [
        "''' - Com base na análise dos dados acima, ambas cidades tem sua distribuição de impostos assimétrica à direita, pois a maioria de seus dados estão representados na parte esquerda do boxplot, tendo dados outliers à direita do mesmo os quais não representam a maioria.'''"
      ]
    },
    {
      "cell_type": "markdown",
      "metadata": {
        "id": "ttFNowPcyCiJ"
      },
      "source": [
        "## Conclusão\n",
        "E então? Quem gasta mais com aluguel: Batman ou Superman?"
      ]
    },
    {
      "cell_type": "code",
      "execution_count": null,
      "metadata": {
        "id": "In4e-czKyxv9",
        "outputId": "77a0e576-0a69-4b2b-9f3e-9c1a3087dc83"
      },
      "outputs": [
        {
          "name": "stdout",
          "output_type": "stream",
          "text": [
            "A casa em que paga o aluguel mais caro em Gotham CIty paga o valor de US$ 11500, já em Metrópolis US$ 11430\n",
            "O alugel médio em Gotham CIty é de US$ 4678.68, já em Metrópolis US$ 3005.20\n"
          ]
        },
        {
          "data": {
            "text/plain": [
              "' - Com base nos dados acima e do fato de que Superman e Batman seriam as pessoas mais ricas da cidade, Batman paga o aluguel mais caro por US$ 70 a mais que Superman. Com base na média dos valores do aluguel nas cidades, Gotham acaba sendo a cidade com o aluguel mais caro, e, portanto, com base nos dados acima, Batman paga o alugel mais caro.'"
            ]
          },
          "execution_count": 67,
          "metadata": {},
          "output_type": "execute_result"
        }
      ],
      "source": [
        "maxGotham = casas_Gotham[\"Total\"].max()\n",
        "maxMetrópolis = casas_Met[\"Total\"].max()\n",
        "print(f\"A casa em que paga o aluguel mais caro em Gotham CIty paga o valor de US$ {maxGotham}, já em Metrópolis US$ {maxMetrópolis}\")\n",
        "\n",
        "médiaGotham = casas_Gotham[\"Total\"].mean()\n",
        "médiaMetrópolis = casas_Met[\"Total\"].mean()\n",
        "print(f\"O alugel médio em Gotham CIty é de US$ {médiaGotham:.2f}, já em Metrópolis US$ {médiaMetrópolis:.2f}\")\n",
        "\n",
        "''' - Com base nos dados acima e do fato de que Superman e Batman seriam as pessoas mais ricas da cidade, Batman paga o aluguel mais caro por US$ 70 a mais que Superman. Com base na média dos valores do aluguel nas cidades, Gotham acaba sendo a cidade com o aluguel mais caro, e, portanto, com base nos dados acima, Batman paga o alugel mais caro.'''"
      ]
    }
  ],
  "metadata": {
    "colab": {
      "provenance": []
    },
    "kernelspec": {
      "display_name": "Python 3.10.6 64-bit (windows store)",
      "language": "python",
      "name": "python3"
    },
    "language_info": {
      "name": "python",
      "version": "3.10.6"
    },
    "vscode": {
      "interpreter": {
        "hash": "33263f9f11e775c71b7f0b949262ccbeeb65d5079b25f6b7c52087f5ec93f6bb"
      }
    }
  },
  "nbformat": 4,
  "nbformat_minor": 0
}