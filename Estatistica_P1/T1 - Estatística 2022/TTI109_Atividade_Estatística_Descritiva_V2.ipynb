{
  "nbformat": 4,
  "nbformat_minor": 0,
  "metadata": {
    "colab": {
      "provenance": []
    },
    "kernelspec": {
      "name": "python3",
      "display_name": "Python 3"
    },
    "language_info": {
      "name": "python"
    }
  },
  "cells": [
    {
      "cell_type": "markdown",
      "source": [
        "# TTI109 - Atividade: Estatística Descritiva\n",
        "## Onde é mais caro viver? Gotham City ou Metrópolis?\n",
        "Sua equipe deve responder a essa pergunta com base em dados acerca de aluguéis praticados em diversos pontos das duas cidades, em vários tipos de residências. As informações reúnem a área dos imóveis, os impostos, seguros e aluguéis mensais.\n",
        "\n",
        "Faça o upload do arquivo `alugueis.csv`, execute o código abaixo e verifique o formato do conjunto de dados."
      ],
      "metadata": {
        "id": "QEH_7FvGl7wm"
      }
    },
    {
      "cell_type": "code",
      "execution_count": null,
      "metadata": {
        "id": "zkRcdkkULvOz"
      },
      "outputs": [],
      "source": [
        "import pandas as pd\n",
        "import matplotlib.pyplot as plt\n",
        "\n",
        "# Importação dos dados\n",
        "casas = pd.read_csv('alugueis.csv')\n",
        "\n",
        "# Inspecção das 10 primeiras linhas do DataFrame\n",
        "casas.head(10)"
      ]
    },
    {
      "cell_type": "markdown",
      "source": [
        "## Distribuição dos seguros residenciais\n",
        "Construa histogramas para a distribuição de seguros residenciais em cada uma das cidades. A separação dos dados por cidade já está codificada nos DataFrames `casas_Gotham` e `casas_Met`.\n",
        "\n",
        "Além disso, nos histogramas aplique:\n",
        "\n",
        "*   Limite inferior da primeira classe: $0$\n",
        "*   Limite superior da última classe: $170$\n",
        "*   Amplitude das classes: $10$\n",
        "*   Eixo horizontal calibrado nos pontos médios das classes\n",
        "\n",
        "\n",
        "\n",
        "\n",
        "\n"
      ],
      "metadata": {
        "id": "seh5LJAhoFtw"
      }
    },
    {
      "cell_type": "code",
      "source": [
        "## Histograma de seguros - Gotham City\n",
        "\n",
        "# Escolhendo a cidade de Gotham\n",
        "casas_Gotham = casas.loc[casas['Cidade']=='Gotham']\n",
        "\n",
        "# Constantes para construção das classes\n",
        "MIN = 'Complete aqui'\n",
        "MAX = 'Complete aqui'\n",
        "AMP = 'Complete aqui'\n",
        "TAM_FIG = (10, 6)\n",
        "\n",
        "# Determinação das classes\n",
        "classes = 'Complete aqui'\n",
        "\n",
        "# Pontos médios das classes\n",
        "medios = [classe.mid for classe in classes]\n",
        "\n",
        "# Histograma Gotham\n",
        "hist_seg_Gotham = casas_Gotham['Seguro'].hist(bins=[classe.left for classe in classes]+\n",
        "                                              [classes[-1].right],\n",
        "                                              color='green', edgecolor='black',\n",
        "                                              grid=False, figsize=TAM_FIG)\n",
        "\n",
        "# Escalas dos eixos dos histogramas\n",
        "eixo_x = 'Complete aqui'\n",
        "\n",
        "# Atributos do histograma\n",
        "hist_seg_Gotham.set(title='Seguros residenciais em Gotham City',\n",
        "                    xlabel='Seguro', ylabel='Frequência',\n",
        "                    xticks=eixo_x)\n",
        "plt.show()"
      ],
      "metadata": {
        "id": "-kYauBgejS2n"
      },
      "execution_count": null,
      "outputs": []
    },
    {
      "cell_type": "code",
      "source": [
        "## Histograma de seguros - Metrópolis\n",
        "\n",
        "# Escolhendo a cidade de Metrópolis\n",
        "casas_Met = casas.loc[casas['Cidade']=='Metrópolis']\n",
        "\n",
        "# Constantes para construção das classes\n",
        "MIN = 'Complete aqui'\n",
        "MAX = 'Complete aqui'\n",
        "AMP = 'Complete aqui'\n",
        "TAM_FIG = (10, 6)\n",
        "\n",
        "# Determinação das classes\n",
        "classes = 'Complete aqui'\n",
        "\n",
        "# Pontos médios das classes\n",
        "medios = [classe.mid for classe in classes]\n",
        "\n",
        "# Histograma Metrópolis\n",
        "hist_seg_Met = casas_Met['Seguro'].hist(bins=[classe.left for classe in classes]+\n",
        "                                              [classes[-1].right],\n",
        "                                              color='green', edgecolor='black',\n",
        "                                              grid=False, figsize=TAM_FIG)\n",
        "\n",
        "# Escalas dos eixos dos histogramas\n",
        "eixo_x = 'Complete aqui'\n",
        "\n",
        "# Atributos do histograma\n",
        "hist_seg_Met.set(title='Seguros residenciais em Metrópolis',\n",
        "                 xlabel='Seguro', ylabel='Frequência',\n",
        "                 xticks=medios)\n",
        "plt.show()"
      ],
      "metadata": {
        "id": "RIEI6c9foq4I"
      },
      "execution_count": null,
      "outputs": []
    },
    {
      "cell_type": "markdown",
      "source": [
        "## Responda:\n",
        "Quais as duas classes mais frequentes em cada histograma?  \n"
      ],
      "metadata": {
        "id": "gCycTH0Qql-1"
      }
    },
    {
      "cell_type": "code",
      "source": [
        "resp_1 = \"Escreva sua resposta aqui.\" # @param {type:\"string\"}\n",
        "print(resp_1)"
      ],
      "metadata": {
        "id": "V6jE1arYdQ4u"
      },
      "execution_count": null,
      "outputs": []
    },
    {
      "cell_type": "markdown",
      "source": [
        "Qual cidade deve ter o seguro médio mais caro? Por quê?\n"
      ],
      "metadata": {
        "id": "V6i00uZ0dNe-"
      }
    },
    {
      "cell_type": "code",
      "source": [
        "resp_2 = \"Escreva sua resposta aqui.\" # @param {type:\"string\"}\n",
        "print(resp_2)"
      ],
      "metadata": {
        "id": "QR5_L8-1dtrn"
      },
      "execution_count": null,
      "outputs": []
    },
    {
      "cell_type": "markdown",
      "source": [
        "# Medidas centrais e de variação das distribuições de aluguéis\n",
        "Calcule as medidas centrais e de variação das distribuições de aluguéis em cada cidade (coluna `Total` dos `DataFrames` `casas_Gotham` e `casas_Met`). Use o método `agg` para calcular as medidas necessárias."
      ],
      "metadata": {
        "id": "P1rEuoCTrmQA"
      }
    },
    {
      "cell_type": "code",
      "source": [
        "# Medidas centrais e de variação para Gotham City\n",
        "print('**Gotham City**')\n",
        "est_Gotham = casas_Gotham['Total'].'Complete aqui'\n",
        "display(est_Gotham)"
      ],
      "metadata": {
        "id": "nc5ZOOeprd-Q"
      },
      "execution_count": null,
      "outputs": []
    },
    {
      "cell_type": "code",
      "source": [
        "# Medidas centrais e de variação para Metrópolis\n",
        "print('**Metrópolis**')\n",
        "est_Met = casas_Met['Total'].'Complete aqui'\n",
        "display(est_Met)"
      ],
      "metadata": {
        "id": "7P4InD-CgXR-"
      },
      "execution_count": null,
      "outputs": []
    },
    {
      "cell_type": "markdown",
      "source": [
        "## Responda:\n",
        "Qual das cidades apresenta o aluguel médio mais caro?"
      ],
      "metadata": {
        "id": "QnIzstG6s-7d"
      }
    },
    {
      "cell_type": "code",
      "source": [
        "resp_3 = \"Escreva sua resposta aqui.\" # @param {type:\"string\"}\n",
        "print(resp_3)\n"
      ],
      "metadata": {
        "id": "KOz9jXQxLOZf"
      },
      "execution_count": null,
      "outputs": []
    },
    {
      "cell_type": "markdown",
      "source": [
        "Qual das cidades apresenta o aluguel com maior mediana?"
      ],
      "metadata": {
        "id": "yB2WgypzLMYV"
      }
    },
    {
      "cell_type": "code",
      "source": [
        "resp_4 = \"Escreva sua resposta aqui.\" # @param {type:\"string\"}\n",
        "print(resp_4)\n"
      ],
      "metadata": {
        "id": "kdyOOhziL4RG"
      },
      "execution_count": null,
      "outputs": []
    },
    {
      "cell_type": "markdown",
      "source": [
        "Qual das cidades apresenta alugueis com menor desvio padrão?"
      ],
      "metadata": {
        "id": "sR7dnvM5Lx7W"
      }
    },
    {
      "cell_type": "code",
      "source": [
        "resp_5 = \"Escreva sua resposta aqui.\" # @param {type:\"string\"}\n",
        "print(resp_5)"
      ],
      "metadata": {
        "id": "BMBgATk0MUL2"
      },
      "execution_count": null,
      "outputs": []
    },
    {
      "cell_type": "markdown",
      "source": [
        "## Quartis da distribuição de impostos residenciais\n",
        "Determine os quartis para a distribuição de impostos residenciais de cada cidade. A seguir, construa os respectivos diagramas boxplot."
      ],
      "metadata": {
        "id": "0z4ZmRV9tWqO"
      }
    },
    {
      "cell_type": "code",
      "source": [
        "# Lista dos quartis\n",
        "lista_quartis = 'Complete aqui'\n",
        "\n",
        "# Quartis dos impostos em Gotham City\n",
        "print('**Gotham City**')\n",
        "imp_Gotham = casas_Gotham['Impostos'].'Complete aqui'\n",
        "display(imp_Gotham)\n",
        "\n",
        "# Quartis dos impostos em Metrópolis\n",
        "print('**Metrópolis**')\n",
        "imp_Met = casas_Met['Impostos'].'Complete aqui'\n",
        "display(imp_Met)\n",
        "\n",
        "# Boxplots\n",
        "casas.boxplot(by='Complete aqui', column=['Complete aqui'], color='red',\n",
        "              figsize=TAM_FIG, showmeans=True, whis=1.5)\n",
        "plt.title('Distribuição dos impostos residenciais')\n",
        "plt.suptitle('')\n",
        "plt.ylabel('Imposto')\n",
        "plt.show()"
      ],
      "metadata": {
        "id": "-mrVUhfGtPvs"
      },
      "execution_count": null,
      "outputs": []
    },
    {
      "cell_type": "markdown",
      "source": [
        "## Responda:\n",
        "Com base nos diagramas boxplot, classifique a distribuição dos impostos em cada cidade como simétricas, assimétricas à esquerda ou assimétricas à direita. Por quê?"
      ],
      "metadata": {
        "id": "SgIdR6Esw5G-"
      }
    },
    {
      "cell_type": "code",
      "source": [
        "resp_6 = \"Escreva sua resposta aqui.\" # @param {type:\"string\"}\n",
        "print(resp_6)"
      ],
      "metadata": {
        "id": "faWDKNzpwdvv"
      },
      "execution_count": null,
      "outputs": []
    },
    {
      "cell_type": "markdown",
      "source": [
        "## Conclusão\n",
        "E então? Quem gasta mais com aluguel: Batman ou Superman?"
      ],
      "metadata": {
        "id": "ttFNowPcyCiJ"
      }
    },
    {
      "cell_type": "code",
      "source": [
        "resp_7 = \"Escreva sua resposta aqui.\" # @param {type:\"string\"}\n",
        "print(resp_7)"
      ],
      "metadata": {
        "id": "In4e-czKyxv9"
      },
      "execution_count": null,
      "outputs": []
    }
  ]
}